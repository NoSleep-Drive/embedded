{
 "cells": [
  {
   "cell_type": "code",
   "execution_count": null,
   "metadata": {},
   "outputs": [],
   "source": [
    "pip install opencv-python"
   ]
  },
  {
   "cell_type": "code",
   "execution_count": 3,
   "metadata": {},
   "outputs": [],
   "source": [
    "import cv2\n",
    "import time"
   ]
  },
  {
   "cell_type": "code",
   "execution_count": null,
   "metadata": {},
   "outputs": [],
   "source": [
    "def remove_light(frame) :\n",
    "    gray = cv2.cvtColor(frame, cv2.COLOR_BGR2GRAY)\n",
    "    lab = cv2.cvtColor(frame, cv2.COLOR_BGR2LAB)\n",
    "    L = lab[:,:,0]\n",
    "    med_L = cv2.medianBlur(L,99)\n",
    "    invert_L = cv2.bitwise_not(med_L)\n",
    "    composed = cv2.addWeighted(gray, 0.75, invert_L, 0.25, 0)\n",
    "    return L, composed"
   ]
  },
  {
   "cell_type": "code",
   "execution_count": null,
   "metadata": {},
   "outputs": [],
   "source": [
    "cap = cv2.VideoCapture(0)\n",
    "\n",
    "frame_count = 0\n",
    "fps = 0\n",
    "fps_timer = time.time()\n",
    "\n",
    "while True:\n",
    "    start_time = time.time()\n",
    "\n",
    "    ret, frame = cap.read()\n",
    "    if not ret:\n",
    "        break\n",
    "\n",
    "    frame = cv2.resize(frame, (320, 240))\n",
    "    _, result = remove_light(frame)\n",
    "\n",
    "    frame_count += 1\n",
    "\n",
    "    if time.time() - fps_timer >= 1.0:\n",
    "        fps = frame_count / (time.time() - fps_timer)\n",
    "        fps_timer = time.time()\n",
    "        frame_count = 0\n",
    "\n",
    "    cv2.putText(result, f\"FPS: {fps:.2f}\", (10, 20),\n",
    "                cv2.FONT_HERSHEY_SIMPLEX, 0.6, 255, 2)\n",
    "\n",
    "    cv2.imshow(\"processed immage frame\", result)\n",
    "\n",
    "    if cv2.waitKey(1) & 0xFF == 27: #esc로 카메라 모니터링 종료\n",
    "        break\n",
    "\n",
    "cap.release()\n",
    "cv2.destroyAllWindows()"
   ]
  }
 ],
 "metadata": {
  "kernelspec": {
   "display_name": "Python 3",
   "language": "python",
   "name": "python3"
  },
  "language_info": {
   "codemirror_mode": {
    "name": "ipython",
    "version": 3
   },
   "file_extension": ".py",
   "mimetype": "text/x-python",
   "name": "python",
   "nbconvert_exporter": "python",
   "pygments_lexer": "ipython3",
   "version": "3.12.0"
  }
 },
 "nbformat": 4,
 "nbformat_minor": 2
}
