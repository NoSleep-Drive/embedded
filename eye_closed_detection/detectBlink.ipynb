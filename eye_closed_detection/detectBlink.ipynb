{
 "cells": [
  {
   "cell_type": "code",
   "execution_count": null,
   "metadata": {},
   "outputs": [],
   "source": [
    "pip install scikit-learn numpy dlib opencv-python imutils matplotlib scipy cmake dlib\n"
   ]
  },
  {
   "cell_type": "code",
   "execution_count": null,
   "metadata": {},
   "outputs": [],
   "source": [
    "from sklearn.cluster import KMeans\n",
    "import numpy as np, dlib, cv2, imutils, time, timeit\n",
    "import matplotlib.pyplot as plt\n",
    "from scipy.spatial import distance as dist\n",
    "from imutils.video import VideoStream\n",
    "from imutils import face_utils\n",
    "from threading import Thread\n",
    "\n",
    "import sys\n",
    "sys.path.append('../processing')\n",
    "\n",
    "from removeLight import remove_light"
   ]
  },
  {
   "cell_type": "code",
   "execution_count": null,
   "metadata": {},
   "outputs": [],
   "source": [
    "detector = dlib.get_frontal_face_detector()\n",
    "predictor = dlib.shape_predictor(\"shape_predictor_68_face_landmarks.dat\")"
   ]
  },
  {
   "cell_type": "code",
   "execution_count": null,
   "metadata": {},
   "outputs": [],
   "source": [
    "(lStart, lEnd) = face_utils.FACIAL_LANDMARKS_IDXS[\"left_eye\"]\n",
    "(rStart, rEnd) = face_utils.FACIAL_LANDMARKS_IDXS[\"right_eye\"]"
   ]
  },
  {
   "cell_type": "code",
   "execution_count": null,
   "metadata": {},
   "outputs": [],
   "source": [
    "def calculate_ear(eye):\n",
    "    A = dist.euclidean(eye[1], eye[5])\n",
    "    B = dist.euclidean(eye[2], eye[4])\n",
    "    C = dist.euclidean(eye[0], eye[3])\n",
    "    ear = (A + B) / (2.0 * C)\n",
    "    return ear\n"
   ]
  },
  {
   "cell_type": "code",
   "execution_count": null,
   "metadata": {},
   "outputs": [],
   "source": [
    "def validate_eye_detection(rects, shape):\n",
    "    if len(rects) == 0:\n",
    "        raise ValueError(\"[ERROR] 얼굴을 감지 불가.\")\n",
    "    \n",
    "    if shape is None or len(shape) == 0:\n",
    "        raise ValueError(\"[ERROR] 얼굴 랜드마크 확인 불가\")\n"
   ]
  },
  {
   "cell_type": "code",
   "execution_count": null,
   "metadata": {},
   "outputs": [],
   "source": [
    "def initialize_adaptive_ear(vs, frame_count=5, sensitivity=0.1):\n",
    "    def measure_ear_state(is_eye_open):\n",
    "        state = \"뜸\" if is_eye_open else \"감음\"\n",
    "        print(f\"[INFO] 눈 {state} 상태 측정을 시작\")\n",
    "        print(f\"[INFO] 측정 중... ({state})\")\n",
    "\n",
    "        ears = []\n",
    "        collected = 0\n",
    "        while collected < frame_count:\n",
    "            frame = vs.read()\n",
    "            frame = imutils.resize(frame, width=400)\n",
    "            _, gray = remove_light(frame)\n",
    "            rects = detector(gray, 0)\n",
    "\n",
    "            if len(rects) == 0:\n",
    "                print(\"[WARN] 얼굴 미감지로 인한 예외 처리\")\n",
    "                time.sleep(0.05)\n",
    "                continue\n",
    "            \n",
    "            shape = predictor(gray, rects[0])\n",
    "            shape = face_utils.shape_to_np(shape)\n",
    "\n",
    "            validate_eye_detection(rects, shape)\n",
    "            \n",
    "            for rect in rects:\n",
    "                shape = predictor(gray, rect)\n",
    "                shape = face_utils.shape_to_np(shape)\n",
    "                leftEye = shape[lStart:lEnd]\n",
    "                rightEye = shape[rStart:rEnd]\n",
    "                leftEAR = calculate_ear(leftEye)\n",
    "                rightEAR = calculate_ear(rightEye)\n",
    "                ear = (leftEAR + rightEAR) / 2.0\n",
    "                ears.append(ear)\n",
    "                collected += 1\n",
    "                print(f\"[DEBUG] EAR ({state}): {ear:.3f}\")\n",
    "                break  # 한 명만 인식\n",
    "\n",
    "            time.sleep(0.05)\n",
    "\n",
    "        return sum(ears) / len(ears)\n",
    "\n",
    "    open_ear = measure_ear_state(is_eye_open=True)\n",
    "    close_ear = measure_ear_state(is_eye_open=False)\n",
    "\n",
    "    threshold = ((open_ear - close_ear) / 2.0) + close_ear\n",
    "    print(f\"[INFO] 자동 설정된 EAR 기준값: {threshold:.3f} (OPEN: {open_ear:.3f}, CLOSE: {close_ear:.3f})\\n\")\n",
    "    return threshold\n"
   ]
  },
  {
   "cell_type": "code",
   "execution_count": null,
   "metadata": {},
   "outputs": [],
   "source": [
    "def is_eye_closed(frame, threshold):\n",
    "    try:\n",
    "        frame = imutils.resize(frame, width=400)\n",
    "        _, gray = remove_light(frame)\n",
    "        rects = detector(gray, 0)\n",
    "\n",
    "        if len(rects) == 0:\n",
    "            raise ValueError(\"얼굴 감지 실패\")\n",
    "\n",
    "        shape = predictor(gray, rects[0])\n",
    "        shape = face_utils.shape_to_np(shape)\n",
    "        leftEye = shape[lStart:lEnd]\n",
    "        rightEye = shape[rStart:rEnd]\n",
    "        leftEAR = calculate_ear(leftEye)\n",
    "        rightEAR = calculate_ear(rightEye)\n",
    "        both_ear = (leftEAR + rightEAR) / 2.0\n",
    "        print(f\"[DEBUG] EAR: {both_ear:.3f}, Threshold: {threshold:.3f}\")\n",
    "        return both_ear < threshold\n",
    "\n",
    "    except Exception as e:\n",
    "        print(f\"[WARN] is_eye_closed 수행 중 객체 검출 실패로 인한 오류 발생: {e}\")\n",
    "        return False\n"
   ]
  },
  {
   "cell_type": "code",
   "execution_count": null,
   "metadata": {},
   "outputs": [],
   "source": [
    "vs = VideoStream(src=0).start()\n",
    "time.sleep(1.0)\n",
    "\n",
    "EAR_THRESH = initialize_adaptive_ear(vs)\n",
    "\n",
    "eye_open_counter = 0\n",
    "eye_close_counter = 0\n",
    "required_frames = 3 \n",
    "\n",
    "while True:\n",
    "    frame = vs.read()\n",
    "    \n",
    "    try:\n",
    "        if is_eye_closed(frame, EAR_THRESH):\n",
    "            eye_close_counter += 1\n",
    "            eye_open_counter = 0\n",
    "            if eye_close_counter >= required_frames:\n",
    "                print(\"눈 감음\")\n",
    "        else:\n",
    "            eye_open_counter += 1\n",
    "            eye_close_counter = 0\n",
    "            if eye_open_counter >= required_frames:\n",
    "                print(\"눈 뜸\")\n",
    "    \n",
    "    except Exception as e:\n",
    "        print(f\"[ERROR] {e}\")\n",
    "        continue\n",
    "\n",
    "    cv2.imshow(\"Frame\", frame)\n",
    "    if cv2.waitKey(1) & 0xFF == ord(\"q\"):\n",
    "        break\n",
    "\n",
    "cv2.destroyAllWindows()\n",
    "vs.stop()\n"
   ]
  }
 ],
 "metadata": {
  "kernelspec": {
   "display_name": "Python 3",
   "language": "python",
   "name": "python3"
  },
  "language_info": {
   "codemirror_mode": {
    "name": "ipython",
    "version": 3
   },
   "file_extension": ".py",
   "mimetype": "text/x-python",
   "name": "python",
   "nbconvert_exporter": "python",
   "pygments_lexer": "ipython3",
   "version": "3.12.0"
  }
 },
 "nbformat": 4,
 "nbformat_minor": 2
}
